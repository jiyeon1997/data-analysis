{
 "cells": [
  {
   "cell_type": "code",
   "execution_count": 1,
   "metadata": {},
   "outputs": [],
   "source": [
    "import numpy as np\n",
    "import pandas as pd\n",
    "import seaborn as sns\n",
    "import matplotlib.pyplot as plt\n",
    "import statsmodels.api as sm\n",
    "import statsmodels.formula.api as smf\n",
    "from sklearn.linear_model import LogisticRegression\n",
    "from sklearn.model_selection import train_test_split"
   ]
  },
  {
   "cell_type": "code",
   "execution_count": 2,
   "metadata": {},
   "outputs": [],
   "source": [
    "# load datasets\n",
    "churn = pd.read_csv(\"./data/churn.csv\", sep=\",\")"
   ]
  },
  {
   "cell_type": "code",
   "execution_count": 3,
   "metadata": {},
   "outputs": [],
   "source": [
    "# Convert True or False to 1 or 0\n",
    "churn.columns = [heading.lower() for heading in \\\n",
    "                churn.columns.str.replace(' ','_').str.replace(\"\\'\", \"\").str.strip('?')]\n",
    "churn['churn'] = np.where(churn['churn'] == 'True.', 1., 0.)\n",
    "churn['intl_plan'] = np.where(churn['intl_plan'] == 'no', 0., 1.)\n",
    "churn['vmail_plan'] = np.where(churn['vmail_plan'] == 'no', 0., 1.)\n",
    "\n",
    "# print(churn.head())"
   ]
  },
  {
   "cell_type": "code",
   "execution_count": 4,
   "metadata": {},
   "outputs": [],
   "source": [
    "y = churn[churn.columns[-1:]]\n",
    "x = churn.drop(['churn', 'state', 'phone'], axis=1)\n",
    "\n",
    "# print(y.head())\n",
    "# print(type(x))"
   ]
  },
  {
   "cell_type": "code",
   "execution_count": 5,
   "metadata": {},
   "outputs": [],
   "source": [
    "X_train, X_test, y_train, y_test = train_test_split(x, y, test_size=0.2)"
   ]
  },
  {
   "cell_type": "code",
   "execution_count": 6,
   "metadata": {},
   "outputs": [
    {
     "name": "stderr",
     "output_type": "stream",
     "text": [
      "/anaconda3/envs/practice/lib/python3.5/site-packages/sklearn/linear_model/logistic.py:433: FutureWarning: Default solver will be changed to 'lbfgs' in 0.22. Specify a solver to silence this warning.\n",
      "  FutureWarning)\n",
      "/anaconda3/envs/practice/lib/python3.5/site-packages/sklearn/utils/validation.py:761: DataConversionWarning: A column-vector y was passed when a 1d array was expected. Please change the shape of y to (n_samples, ), for example using ravel().\n",
      "  y = column_or_1d(y, warn=True)\n"
     ]
    }
   ],
   "source": [
    "logreg = LogisticRegression().fit(X_train, y_train)"
   ]
  },
  {
   "cell_type": "code",
   "execution_count": 7,
   "metadata": {},
   "outputs": [
    {
     "name": "stderr",
     "output_type": "stream",
     "text": [
      "/anaconda3/envs/practice/lib/python3.5/site-packages/sklearn/linear_model/logistic.py:433: FutureWarning: Default solver will be changed to 'lbfgs' in 0.22. Specify a solver to silence this warning.\n",
      "  FutureWarning)\n",
      "/anaconda3/envs/practice/lib/python3.5/site-packages/sklearn/utils/validation.py:761: DataConversionWarning: A column-vector y was passed when a 1d array was expected. Please change the shape of y to (n_samples, ), for example using ravel().\n",
      "  y = column_or_1d(y, warn=True)\n",
      "/anaconda3/envs/practice/lib/python3.5/site-packages/sklearn/linear_model/logistic.py:433: FutureWarning: Default solver will be changed to 'lbfgs' in 0.22. Specify a solver to silence this warning.\n",
      "  FutureWarning)\n",
      "/anaconda3/envs/practice/lib/python3.5/site-packages/sklearn/utils/validation.py:761: DataConversionWarning: A column-vector y was passed when a 1d array was expected. Please change the shape of y to (n_samples, ), for example using ravel().\n",
      "  y = column_or_1d(y, warn=True)\n",
      "/anaconda3/envs/practice/lib/python3.5/site-packages/sklearn/linear_model/logistic.py:433: FutureWarning: Default solver will be changed to 'lbfgs' in 0.22. Specify a solver to silence this warning.\n",
      "  FutureWarning)\n",
      "/anaconda3/envs/practice/lib/python3.5/site-packages/sklearn/utils/validation.py:761: DataConversionWarning: A column-vector y was passed when a 1d array was expected. Please change the shape of y to (n_samples, ), for example using ravel().\n",
      "  y = column_or_1d(y, warn=True)\n"
     ]
    },
    {
     "name": "stdout",
     "output_type": "stream",
     "text": [
      "C=0.001 인 L1 로지스틱 회귀의 훈련 정확도 : 0.85\n",
      "C=0.001 인 L1 로지스틱 회귀의 테스트 정확도 : 0.86\n",
      "C=1.000 인 L1 로지스틱 회귀의 훈련 정확도 : 0.86\n",
      "C=1.000 인 L1 로지스틱 회귀의 테스트 정확도 : 0.86\n",
      "C=100.000 인 L1 로지스틱 회귀의 훈련 정확도 : 0.86\n",
      "C=100.000 인 L1 로지스틱 회귀의 테스트 정확도 : 0.86\n"
     ]
    }
   ],
   "source": [
    "list = [0.001, 1, 100]\n",
    "for i in list :\n",
    "    logreg = LogisticRegression(C=i, penalty=\"l1\").fit(X_train, y_train)\n",
    "    \n",
    "    print(\"C={:.3f} 인 L1 로지스틱 회귀의 훈련 정확도 : {:.2f}\".format(i, logreg.score(X_train, y_train)))\n",
    "    print(\"C={:.3f} 인 L1 로지스틱 회귀의 테스트 정확도 : {:.2f}\".format(i, logreg.score(X_test, y_test)))"
   ]
  },
  {
   "cell_type": "code",
   "execution_count": 8,
   "metadata": {},
   "outputs": [
    {
     "name": "stderr",
     "output_type": "stream",
     "text": [
      "/anaconda3/envs/practice/lib/python3.5/site-packages/sklearn/linear_model/logistic.py:433: FutureWarning: Default solver will be changed to 'lbfgs' in 0.22. Specify a solver to silence this warning.\n",
      "  FutureWarning)\n",
      "/anaconda3/envs/practice/lib/python3.5/site-packages/sklearn/utils/validation.py:761: DataConversionWarning: A column-vector y was passed when a 1d array was expected. Please change the shape of y to (n_samples, ), for example using ravel().\n",
      "  y = column_or_1d(y, warn=True)\n",
      "/anaconda3/envs/practice/lib/python3.5/site-packages/sklearn/linear_model/logistic.py:433: FutureWarning: Default solver will be changed to 'lbfgs' in 0.22. Specify a solver to silence this warning.\n",
      "  FutureWarning)\n",
      "/anaconda3/envs/practice/lib/python3.5/site-packages/sklearn/utils/validation.py:761: DataConversionWarning: A column-vector y was passed when a 1d array was expected. Please change the shape of y to (n_samples, ), for example using ravel().\n",
      "  y = column_or_1d(y, warn=True)\n"
     ]
    },
    {
     "name": "stdout",
     "output_type": "stream",
     "text": [
      "C=0.001 인 L2 로지스틱 회귀의 훈련 정확도 : 0.86\n",
      "C=0.001 인 L2 로지스틱 회귀의 테스트 정확도 : 0.86\n",
      "C=1.000 인 L2 로지스틱 회귀의 훈련 정확도 : 0.86\n",
      "C=1.000 인 L2 로지스틱 회귀의 테스트 정확도 : 0.85\n",
      "C=100.000 인 L2 로지스틱 회귀의 훈련 정확도 : 0.86\n",
      "C=100.000 인 L2 로지스틱 회귀의 테스트 정확도 : 0.85\n"
     ]
    },
    {
     "name": "stderr",
     "output_type": "stream",
     "text": [
      "/anaconda3/envs/practice/lib/python3.5/site-packages/sklearn/linear_model/logistic.py:433: FutureWarning: Default solver will be changed to 'lbfgs' in 0.22. Specify a solver to silence this warning.\n",
      "  FutureWarning)\n",
      "/anaconda3/envs/practice/lib/python3.5/site-packages/sklearn/utils/validation.py:761: DataConversionWarning: A column-vector y was passed when a 1d array was expected. Please change the shape of y to (n_samples, ), for example using ravel().\n",
      "  y = column_or_1d(y, warn=True)\n"
     ]
    }
   ],
   "source": [
    "for i in list :\n",
    "    logreg = LogisticRegression(C=i, penalty=\"l2\").fit(X_train, y_train)\n",
    "    \n",
    "    print(\"C={:.3f} 인 L2 로지스틱 회귀의 훈련 정확도 : {:.2f}\".format(i, logreg.score(X_train, y_train)))\n",
    "    print(\"C={:.3f} 인 L2 로지스틱 회귀의 테스트 정확도 : {:.2f}\".format(i, logreg.score(X_test, y_test)))"
   ]
  }
 ],
 "metadata": {
  "kernelspec": {
   "display_name": "Python 3",
   "language": "python",
   "name": "python3"
  },
  "language_info": {
   "codemirror_mode": {
    "name": "ipython",
    "version": 3
   },
   "file_extension": ".py",
   "mimetype": "text/x-python",
   "name": "python",
   "nbconvert_exporter": "python",
   "pygments_lexer": "ipython3",
   "version": "3.5.6"
  }
 },
 "nbformat": 4,
 "nbformat_minor": 2
}
