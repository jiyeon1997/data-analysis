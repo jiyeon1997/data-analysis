{
 "cells": [
  {
   "cell_type": "code",
   "execution_count": 1,
   "metadata": {},
   "outputs": [],
   "source": [
    "import numpy as np\n",
    "import pandas as pd\n",
    "import matplotlib.pyplot as plt\n",
    "import mglearn\n",
    "from sklearn.neighbors import KNeighborsClassifier\n",
    "from sklearn.linear_model import LinearRegression\n",
    "from sklearn.model_selection import train_test_split\n",
    "from matplotlib import rc\n",
    "from sklearn.linear_model import Ridge\n",
    "from sklearn.linear_model import Lasso\n",
    "%matplotlib inline\n",
    "\n",
    "# 주피터 노트북 한글 설정\n",
    "rc('font', family='AppleGothic')\n",
    "plt.rcParams['axes.unicode_minus'] = False"
   ]
  },
  {
   "cell_type": "code",
   "execution_count": 2,
   "metadata": {},
   "outputs": [],
   "source": [
    "# Load datasets\n",
    "wine = pd.read_csv('data/winequality-white.csv', sep=';')"
   ]
  },
  {
   "cell_type": "code",
   "execution_count": 3,
   "metadata": {},
   "outputs": [],
   "source": [
    "y = wine[wine.columns[-1:]]\n",
    "x = wine.iloc[:, 0:-1]\n",
    "\n",
    "#print(y.head())\n",
    "#print(x.head())"
   ]
  },
  {
   "cell_type": "code",
   "execution_count": 4,
   "metadata": {},
   "outputs": [],
   "source": [
    "X_train, X_test, y_train, y_test = train_test_split(x, y, test_size=0.2)"
   ]
  },
  {
   "cell_type": "code",
   "execution_count": 5,
   "metadata": {},
   "outputs": [],
   "source": [
    "lr = LinearRegression().fit(X_train, y_train)"
   ]
  },
  {
   "cell_type": "code",
   "execution_count": 6,
   "metadata": {},
   "outputs": [
    {
     "name": "stdout",
     "output_type": "stream",
     "text": [
      "lr_coef :  [[ 6.06870031e-02 -1.88734905e+00 -1.89916818e-02  8.04943938e-02\n",
      "  -4.41400858e-01  3.36156796e-03 -3.65869362e-04 -1.44616776e+02\n",
      "   6.26577742e-01  6.58251220e-01  1.97596889e-01]]\n",
      "lr.intercept :  [144.78565101]\n"
     ]
    }
   ],
   "source": [
    "# Weight and bias\n",
    "print(\"lr_coef : \", lr.coef_)\n",
    "print(\"lr.intercept : \", lr.intercept_)"
   ]
  },
  {
   "cell_type": "code",
   "execution_count": 7,
   "metadata": {},
   "outputs": [
    {
     "name": "stdout",
     "output_type": "stream",
     "text": [
      "---------선형 회귀 분석 결과---------\n",
      "훈련 세트 정확도 : 0.28\n",
      "테스트 세트 정확도 : 0.27\n"
     ]
    }
   ],
   "source": [
    "print(\"---------선형 회귀 분석 결과---------\")\n",
    "print(\"훈련 세트 정확도 : {:.2f}\".format(lr.score(X_train, y_train)))\n",
    "print(\"테스트 세트 정확도 : {:.2f}\".format(lr.score(X_test, y_test)))"
   ]
  },
  {
   "cell_type": "code",
   "execution_count": 8,
   "metadata": {},
   "outputs": [
    {
     "name": "stdout",
     "output_type": "stream",
     "text": [
      "---------리지 회귀 분석 결과---------\n",
      "alpha = 10\n",
      "훈련 세트 정확도 : 0.27\n",
      "테스트 세트 정확도 : 0.26\n"
     ]
    }
   ],
   "source": [
    "print(\"---------리지 회귀 분석 결과---------\")\n",
    "print(\"alpha = 10\")\n",
    "ridge = Ridge(alpha=10).fit(X_train, y_train)\n",
    "print(\"훈련 세트 정확도 : {:.2f}\".format(ridge.score(X_train, y_train)))\n",
    "print(\"테스트 세트 정확도 : {:.2f}\".format(ridge.score(X_test, y_test)))"
   ]
  },
  {
   "cell_type": "code",
   "execution_count": 9,
   "metadata": {},
   "outputs": [
    {
     "name": "stdout",
     "output_type": "stream",
     "text": [
      "---------리지 회귀 분석 결과---------\n",
      "alpha = 0.1\n",
      "훈련 세트 정확도 : 0.28\n",
      "테스트 세트 정확도 : 0.26\n"
     ]
    }
   ],
   "source": [
    "ridge01 = Ridge(alpha=0.1).fit(X_train, y_train)\n",
    "print(\"---------리지 회귀 분석 결과---------\")\n",
    "print(\"alpha = 0.1\")\n",
    "print(\"훈련 세트 정확도 : {:.2f}\".format(ridge01.score(X_train, y_train)))\n",
    "print(\"테스트 세트 정확도 : {:.2f}\".format(ridge01.score(X_test, y_test)))"
   ]
  },
  {
   "cell_type": "code",
   "execution_count": 10,
   "metadata": {},
   "outputs": [
    {
     "name": "stdout",
     "output_type": "stream",
     "text": [
      "---------리지 회귀 분석 결과---------\n",
      "alpha = 1\n",
      "훈련 세트 정확도 : 0.27\n",
      "테스트 세트 정확도 : 0.26\n"
     ]
    }
   ],
   "source": [
    "ridge02 = Ridge().fit(X_train, y_train)\n",
    "print(\"---------리지 회귀 분석 결과---------\")\n",
    "print(\"alpha = 1\")\n",
    "print(\"훈련 세트 정확도 : {:.2f}\".format(ridge02.score(X_train, y_train)))\n",
    "print(\"테스트 세트 정확도 : {:.2f}\".format(ridge02.score(X_test, y_test)))"
   ]
  },
  {
   "cell_type": "code",
   "execution_count": null,
   "metadata": {},
   "outputs": [],
   "source": [
    "lasso = Lasso().fit(X_train, y_train)\n",
    "\n",
    "print(\"---------라소 회귀 분석 결과---------\")\n",
    "print(\"훈련 세트 정확도 : {:.2f}\".format(lasso.score(X_train, y_train)))\n",
    "print(\"테스트 세트 정확도 : {:.2f}\".format(lasso.score(X_test, y_test)))\n",
    "print(\"사용한 특성의 개수 : \", np.sum(lasso.co))"
   ]
  },
  {
   "cell_type": "code",
   "execution_count": null,
   "metadata": {},
   "outputs": [],
   "source": []
  }
 ],
 "metadata": {
  "kernelspec": {
   "display_name": "Python 3",
   "language": "python",
   "name": "python3"
  },
  "language_info": {
   "codemirror_mode": {
    "name": "ipython",
    "version": 3
   },
   "file_extension": ".py",
   "mimetype": "text/x-python",
   "name": "python",
   "nbconvert_exporter": "python",
   "pygments_lexer": "ipython3",
   "version": "3.5.6"
  }
 },
 "nbformat": 4,
 "nbformat_minor": 2
}
