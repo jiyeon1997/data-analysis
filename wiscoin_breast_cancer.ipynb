{
 "cells": [
  {
   "cell_type": "code",
   "execution_count": 1,
   "metadata": {},
   "outputs": [],
   "source": [
    "from sklearn.datasets import load_breast_cancer\n",
    "import numpy as np\n",
    "import pandas as pd\n",
    "import matplotlib.pyplot as plt\n",
    "import mglearn\n",
    "from sklearn.neighbors import KNeighborsClassifier\n",
    "from sklearn.model_selection import train_test_split\n",
    "from matplotlib import rc\n",
    "%matplotlib inline\n",
    "\n",
    "# 주피터 노트북 한글 설정\n",
    "rc('font', family='AppleGothic')\n",
    "plt.rcParams['axes.unicode_minus'] = False"
   ]
  },
  {
   "cell_type": "code",
   "execution_count": 2,
   "metadata": {},
   "outputs": [],
   "source": [
    "# Load datasets\n",
    "cancer = pd.read_csv('data/wdbc2.csv', header=None)"
   ]
  },
  {
   "cell_type": "code",
   "execution_count": 3,
   "metadata": {},
   "outputs": [],
   "source": [
    "# column[0] = id, column[1] = malignity or benign\n",
    "y = cancer[1]\n",
    "x = cancer.drop([0,1], axis=1) # axis = 1 일 때 세로축 삭제"
   ]
  },
  {
   "cell_type": "code",
   "execution_count": 4,
   "metadata": {},
   "outputs": [],
   "source": [
    "X_train, X_test, y_train, y_test = train_test_split(x, y, test_size=0.2)"
   ]
  },
  {
   "cell_type": "code",
   "execution_count": 5,
   "metadata": {},
   "outputs": [],
   "source": [
    "clf = KNeighborsClassifier(n_neighbors=3)"
   ]
  },
  {
   "cell_type": "code",
   "execution_count": 6,
   "metadata": {},
   "outputs": [
    {
     "data": {
      "text/plain": [
       "KNeighborsClassifier(algorithm='auto', leaf_size=30, metric='minkowski',\n",
       "           metric_params=None, n_jobs=None, n_neighbors=3, p=2,\n",
       "           weights='uniform')"
      ]
     },
     "execution_count": 6,
     "metadata": {},
     "output_type": "execute_result"
    }
   ],
   "source": [
    "clf.fit(X_train, y_train)"
   ]
  },
  {
   "cell_type": "code",
   "execution_count": 7,
   "metadata": {},
   "outputs": [
    {
     "name": "stdout",
     "output_type": "stream",
     "text": [
      "테스트 세트 예측 :  ['B' 'M' 'B' 'B' 'B' 'M' 'B' 'M' 'B' 'B' 'B' 'M' 'B' 'M' 'M' 'B' 'M' 'B'\n",
      " 'B' 'B' 'M' 'M' 'B' 'B' 'B' 'M' 'M' 'M' 'B' 'B' 'B' 'B' 'M' 'B' 'M' 'B'\n",
      " 'M' 'M' 'M' 'M' 'B' 'B' 'M' 'B' 'M' 'M' 'B' 'B' 'B' 'M' 'B' 'M' 'B' 'B'\n",
      " 'M' 'B' 'B' 'B' 'M' 'B' 'B' 'B' 'M' 'M' 'B' 'M' 'B' 'B' 'B' 'M' 'B' 'B'\n",
      " 'M' 'B' 'M' 'M' 'M' 'B' 'B' 'B' 'B' 'B' 'M' 'B' 'B' 'B' 'B' 'M' 'B' 'M'\n",
      " 'B' 'B' 'B' 'B' 'M' 'B' 'B' 'M' 'B' 'B' 'B' 'M' 'M' 'M' 'B' 'B' 'B' 'M'\n",
      " 'B' 'M' 'M' 'B' 'M' 'M']\n"
     ]
    }
   ],
   "source": [
    "print(\"테스트 세트 예측 : \", clf.predict(X_test))"
   ]
  },
  {
   "cell_type": "code",
   "execution_count": 8,
   "metadata": {},
   "outputs": [
    {
     "name": "stdout",
     "output_type": "stream",
     "text": [
      "테스트 세트 정확도 : 0.92\n"
     ]
    }
   ],
   "source": [
    "print(\"테스트 세트 정확도 : {:.2f}\".format(clf.score(X_test, y_test)))"
   ]
  },
  {
   "cell_type": "code",
   "execution_count": 9,
   "metadata": {
    "scrolled": false
   },
   "outputs": [
    {
     "name": "stdout",
     "output_type": "stream",
     "text": [
      "실제 값 :    outcome\n",
      "0       B\n",
      "1       M\n",
      "2       B\n",
      "3       M\n",
      "4       B\n",
      "5       M\n",
      "6       B\n",
      "7       M\n",
      "8       B\n",
      "9       M\n",
      "테스트 세트의 예측값 :  ['B' 'M' 'B' 'M' 'B' 'B' 'B' 'B' 'B' 'M']\n",
      "테스트 세트 정확도 :  0.8\n"
     ]
    }
   ],
   "source": [
    "# 실제 성능을 테스트 할 데이터 10개를 무작위로 뽑는다. \n",
    "\n",
    "# x_random_test는 실제 데이터의 값에서 10개를 샘플로 저장한다.\n",
    "x_random_test = X_test.sample(n=10)\n",
    "x_index = X_test.index\n",
    "\n",
    "# y는 x_random_test가 들어갔을 때 결과값 (M or B)\n",
    "y_random_test = pd.DataFrame(index=range(0,10), columns=[\"outcome\"])\n",
    "\n",
    "for i in range(0, 10):\n",
    "    n = x_index[i]\n",
    "    y_random_test.loc[i] = y.iloc[n]\n",
    "\n",
    "\n",
    "print(\"실제 값 : \", y_random_test)\n",
    "prediction = clf.predict(x_random_test)\n",
    "print(\"테스트 세트의 예측값 : \", prediction)\n",
    "pred = pd.DataFrame(data=prediction, index=range(0,10), columns=[\"outcome\"])\n",
    "count = 0\n",
    "\n",
    "for i in range(0,10):\n",
    "    if (pred.iloc[i].item() == y_random_test.iloc[i].item()):\n",
    "        count+=1\n",
    "        \n",
    "print(\"테스트 세트 정확도 : \", count/10.0)   # divide_by_zero 조심     "
   ]
  }
 ],
 "metadata": {
  "kernelspec": {
   "display_name": "Python 3",
   "language": "python",
   "name": "python3"
  },
  "language_info": {
   "codemirror_mode": {
    "name": "ipython",
    "version": 3
   },
   "file_extension": ".py",
   "mimetype": "text/x-python",
   "name": "python",
   "nbconvert_exporter": "python",
   "pygments_lexer": "ipython3",
   "version": "3.5.6"
  }
 },
 "nbformat": 4,
 "nbformat_minor": 2
}
