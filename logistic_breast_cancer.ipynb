{
 "cells": [
  {
   "cell_type": "code",
   "execution_count": 1,
   "metadata": {},
   "outputs": [],
   "source": [
    "from sklearn.datasets import load_breast_cancer\n",
    "from sklearn.linear_model import LogisticRegression\n",
    "import numpy as np\n",
    "import pandas as pd\n",
    "import matplotlib.pyplot as plt\n",
    "import mglearn\n",
    "from sklearn.neighbors import KNeighborsClassifier\n",
    "from sklearn.model_selection import train_test_split\n",
    "from matplotlib import rc\n",
    "%matplotlib inline\n",
    "\n",
    "# 주피터 노트북 한글 설정\n",
    "rc('font', family='AppleGothic')\n",
    "plt.rcParams['axes.unicode_minus'] = False"
   ]
  },
  {
   "cell_type": "code",
   "execution_count": 2,
   "metadata": {},
   "outputs": [],
   "source": [
    "# Load datasets\n",
    "cancer = pd.read_csv('data/wdbc2.csv', header=None)"
   ]
  },
  {
   "cell_type": "code",
   "execution_count": 3,
   "metadata": {},
   "outputs": [],
   "source": [
    "# column[0] = id, column[1] = malignity or benign\n",
    "y = cancer[1]\n",
    "x = cancer.drop([0,1], axis=1) # axis = 1 일 때 세로축 삭제"
   ]
  },
  {
   "cell_type": "code",
   "execution_count": 4,
   "metadata": {},
   "outputs": [],
   "source": [
    "X_train, X_test, y_train, y_test = train_test_split(x, y, test_size=0.2)"
   ]
  },
  {
   "cell_type": "code",
   "execution_count": 5,
   "metadata": {},
   "outputs": [
    {
     "name": "stderr",
     "output_type": "stream",
     "text": [
      "/anaconda3/envs/practice/lib/python3.5/site-packages/sklearn/linear_model/logistic.py:433: FutureWarning: Default solver will be changed to 'lbfgs' in 0.22. Specify a solver to silence this warning.\n",
      "  FutureWarning)\n"
     ]
    }
   ],
   "source": [
    "logreg = LogisticRegression().fit(X_train, y_train)"
   ]
  },
  {
   "cell_type": "code",
   "execution_count": 6,
   "metadata": {},
   "outputs": [
    {
     "name": "stderr",
     "output_type": "stream",
     "text": [
      "/anaconda3/envs/practice/lib/python3.5/site-packages/sklearn/linear_model/logistic.py:433: FutureWarning: Default solver will be changed to 'lbfgs' in 0.22. Specify a solver to silence this warning.\n",
      "  FutureWarning)\n",
      "/anaconda3/envs/practice/lib/python3.5/site-packages/sklearn/linear_model/logistic.py:433: FutureWarning: Default solver will be changed to 'lbfgs' in 0.22. Specify a solver to silence this warning.\n",
      "  FutureWarning)\n"
     ]
    },
    {
     "name": "stdout",
     "output_type": "stream",
     "text": [
      "C=0.001 인 L1 로지스틱 회귀의 훈련 정확도 : 0.92\n",
      "C=0.001 인 L1 로지스틱 회귀의 테스트 정확도 : 0.92\n",
      "C=1.000 인 L1 로지스틱 회귀의 훈련 정확도 : 0.96\n",
      "C=1.000 인 L1 로지스틱 회귀의 테스트 정확도 : 0.96\n"
     ]
    },
    {
     "name": "stderr",
     "output_type": "stream",
     "text": [
      "/anaconda3/envs/practice/lib/python3.5/site-packages/sklearn/linear_model/logistic.py:433: FutureWarning: Default solver will be changed to 'lbfgs' in 0.22. Specify a solver to silence this warning.\n",
      "  FutureWarning)\n"
     ]
    },
    {
     "name": "stdout",
     "output_type": "stream",
     "text": [
      "C=100.000 인 L1 로지스틱 회귀의 훈련 정확도 : 0.98\n",
      "C=100.000 인 L1 로지스틱 회귀의 테스트 정확도 : 0.97\n"
     ]
    }
   ],
   "source": [
    "list = [0.001, 1, 100]\n",
    "for i in list :\n",
    "    logreg = LogisticRegression(C=i, penalty=\"l1\").fit(X_train, y_train)\n",
    "    \n",
    "    print(\"C={:.3f} 인 L1 로지스틱 회귀의 훈련 정확도 : {:.2f}\".format(i, logreg.score(X_train, y_train)))\n",
    "    print(\"C={:.3f} 인 L1 로지스틱 회귀의 테스트 정확도 : {:.2f}\".format(i, logreg.score(X_test, y_test)))"
   ]
  },
  {
   "cell_type": "code",
   "execution_count": 7,
   "metadata": {},
   "outputs": [
    {
     "name": "stdout",
     "output_type": "stream",
     "text": [
      "C=0.001 인 L2 로지스틱 회귀의 훈련 정확도 : 0.93\n",
      "C=0.001 인 L2 로지스틱 회귀의 테스트 정확도 : 0.92\n",
      "C=1.000 인 L2 로지스틱 회귀의 훈련 정확도 : 0.96\n",
      "C=1.000 인 L2 로지스틱 회귀의 테스트 정확도 : 0.95\n",
      "C=100.000 인 L2 로지스틱 회귀의 훈련 정확도 : 0.97\n",
      "C=100.000 인 L2 로지스틱 회귀의 테스트 정확도 : 0.96\n"
     ]
    },
    {
     "name": "stderr",
     "output_type": "stream",
     "text": [
      "/anaconda3/envs/practice/lib/python3.5/site-packages/sklearn/linear_model/logistic.py:433: FutureWarning: Default solver will be changed to 'lbfgs' in 0.22. Specify a solver to silence this warning.\n",
      "  FutureWarning)\n",
      "/anaconda3/envs/practice/lib/python3.5/site-packages/sklearn/linear_model/logistic.py:433: FutureWarning: Default solver will be changed to 'lbfgs' in 0.22. Specify a solver to silence this warning.\n",
      "  FutureWarning)\n",
      "/anaconda3/envs/practice/lib/python3.5/site-packages/sklearn/linear_model/logistic.py:433: FutureWarning: Default solver will be changed to 'lbfgs' in 0.22. Specify a solver to silence this warning.\n",
      "  FutureWarning)\n"
     ]
    }
   ],
   "source": [
    "for i in list :\n",
    "    logreg = LogisticRegression(C=i, penalty=\"l2\").fit(X_train, y_train)\n",
    "    \n",
    "    print(\"C={:.3f} 인 L2 로지스틱 회귀의 훈련 정확도 : {:.2f}\".format(i, logreg.score(X_train, y_train)))\n",
    "    print(\"C={:.3f} 인 L2 로지스틱 회귀의 테스트 정확도 : {:.2f}\".format(i, logreg.score(X_test, y_test)))"
   ]
  }
 ],
 "metadata": {
  "kernelspec": {
   "display_name": "Python 3",
   "language": "python",
   "name": "python3"
  },
  "language_info": {
   "codemirror_mode": {
    "name": "ipython",
    "version": 3
   },
   "file_extension": ".py",
   "mimetype": "text/x-python",
   "name": "python",
   "nbconvert_exporter": "python",
   "pygments_lexer": "ipython3",
   "version": "3.5.6"
  }
 },
 "nbformat": 4,
 "nbformat_minor": 2
}
