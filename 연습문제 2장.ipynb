{
 "cells": [
  {
   "cell_type": "code",
   "execution_count": 1,
   "metadata": {},
   "outputs": [],
   "source": [
    "import pandas as pd"
   ]
  },
  {
   "cell_type": "code",
   "execution_count": 2,
   "metadata": {},
   "outputs": [],
   "source": [
    "df1 = pd.read_csv('data/sales_february_2014.csv')\n",
    "df2 = pd.read_csv('data/sales_january_2014.csv')\n",
    "df3 = pd.read_csv('data/sales_march_2014.csv')"
   ]
  },
  {
   "cell_type": "code",
   "execution_count": 3,
   "metadata": {},
   "outputs": [
    {
     "data": {
      "text/html": [
       "<div>\n",
       "<style scoped>\n",
       "    .dataframe tbody tr th:only-of-type {\n",
       "        vertical-align: middle;\n",
       "    }\n",
       "\n",
       "    .dataframe tbody tr th {\n",
       "        vertical-align: top;\n",
       "    }\n",
       "\n",
       "    .dataframe thead th {\n",
       "        text-align: right;\n",
       "    }\n",
       "</style>\n",
       "<table border=\"1\" class=\"dataframe\">\n",
       "  <thead>\n",
       "    <tr style=\"text-align: right;\">\n",
       "      <th></th>\n",
       "      <th>Customer ID</th>\n",
       "      <th>Customer Name</th>\n",
       "      <th>Invoice Number</th>\n",
       "      <th>Sale Amount</th>\n",
       "      <th>Purchase Date</th>\n",
       "    </tr>\n",
       "  </thead>\n",
       "  <tbody>\n",
       "    <tr>\n",
       "      <th>0</th>\n",
       "      <td>9876</td>\n",
       "      <td>Daniel Farber</td>\n",
       "      <td>100-0008</td>\n",
       "      <td>$1,115.00</td>\n",
       "      <td>2002-02-14</td>\n",
       "    </tr>\n",
       "    <tr>\n",
       "      <th>1</th>\n",
       "      <td>8765</td>\n",
       "      <td>Laney Stone</td>\n",
       "      <td>100-0009</td>\n",
       "      <td>$1,367.00</td>\n",
       "      <td>2002-08-14</td>\n",
       "    </tr>\n",
       "    <tr>\n",
       "      <th>2</th>\n",
       "      <td>7654</td>\n",
       "      <td>Roger Lipney</td>\n",
       "      <td>100-0010</td>\n",
       "      <td>$2,135.00</td>\n",
       "      <td>2/15/14</td>\n",
       "    </tr>\n",
       "    <tr>\n",
       "      <th>3</th>\n",
       "      <td>6543</td>\n",
       "      <td>Thomas Haines</td>\n",
       "      <td>100-0011</td>\n",
       "      <td>$1,346.00</td>\n",
       "      <td>2/17/14</td>\n",
       "    </tr>\n",
       "    <tr>\n",
       "      <th>4</th>\n",
       "      <td>5432</td>\n",
       "      <td>Anushka Vaz</td>\n",
       "      <td>100-0012</td>\n",
       "      <td>$1,560.00</td>\n",
       "      <td>2/21/14</td>\n",
       "    </tr>\n",
       "  </tbody>\n",
       "</table>\n",
       "</div>"
      ],
      "text/plain": [
       "   Customer ID  Customer Name Invoice Number Sale Amount Purchase Date\n",
       "0         9876  Daniel Farber       100-0008   $1,115.00    2002-02-14\n",
       "1         8765    Laney Stone       100-0009   $1,367.00    2002-08-14\n",
       "2         7654   Roger Lipney       100-0010   $2,135.00       2/15/14\n",
       "3         6543  Thomas Haines       100-0011   $1,346.00       2/17/14\n",
       "4         5432    Anushka Vaz       100-0012   $1,560.00       2/21/14"
      ]
     },
     "execution_count": 3,
     "metadata": {},
     "output_type": "execute_result"
    }
   ],
   "source": [
    "df1.head()"
   ]
  },
  {
   "cell_type": "code",
   "execution_count": 4,
   "metadata": {},
   "outputs": [
    {
     "data": {
      "text/html": [
       "<div>\n",
       "<style scoped>\n",
       "    .dataframe tbody tr th:only-of-type {\n",
       "        vertical-align: middle;\n",
       "    }\n",
       "\n",
       "    .dataframe tbody tr th {\n",
       "        vertical-align: top;\n",
       "    }\n",
       "\n",
       "    .dataframe thead th {\n",
       "        text-align: right;\n",
       "    }\n",
       "</style>\n",
       "<table border=\"1\" class=\"dataframe\">\n",
       "  <thead>\n",
       "    <tr style=\"text-align: right;\">\n",
       "      <th></th>\n",
       "      <th>Customer ID</th>\n",
       "      <th>Customer Name</th>\n",
       "      <th>Invoice Number</th>\n",
       "      <th>Sale Amount</th>\n",
       "      <th>Purchase Date</th>\n",
       "    </tr>\n",
       "  </thead>\n",
       "  <tbody>\n",
       "    <tr>\n",
       "      <th>0</th>\n",
       "      <td>1234</td>\n",
       "      <td>John Smith</td>\n",
       "      <td>100-0002</td>\n",
       "      <td>$1,200.00</td>\n",
       "      <td>2001-01-14</td>\n",
       "    </tr>\n",
       "    <tr>\n",
       "      <th>1</th>\n",
       "      <td>2345</td>\n",
       "      <td>Mary Harrison</td>\n",
       "      <td>100-0003</td>\n",
       "      <td>$1,425.00</td>\n",
       "      <td>2001-06-14</td>\n",
       "    </tr>\n",
       "    <tr>\n",
       "      <th>2</th>\n",
       "      <td>3456</td>\n",
       "      <td>Lucy Gomez</td>\n",
       "      <td>100-0004</td>\n",
       "      <td>$1,390.00</td>\n",
       "      <td>2001-11-14</td>\n",
       "    </tr>\n",
       "    <tr>\n",
       "      <th>3</th>\n",
       "      <td>4567</td>\n",
       "      <td>Rupert Jones</td>\n",
       "      <td>100-0005</td>\n",
       "      <td>$1,257.00</td>\n",
       "      <td>1/18/14</td>\n",
       "    </tr>\n",
       "    <tr>\n",
       "      <th>4</th>\n",
       "      <td>5678</td>\n",
       "      <td>Jenny Walters</td>\n",
       "      <td>100-0006</td>\n",
       "      <td>$1,725.00</td>\n",
       "      <td>1/24/14</td>\n",
       "    </tr>\n",
       "  </tbody>\n",
       "</table>\n",
       "</div>"
      ],
      "text/plain": [
       "   Customer ID  Customer Name Invoice Number Sale Amount Purchase Date\n",
       "0         1234     John Smith       100-0002   $1,200.00    2001-01-14\n",
       "1         2345  Mary Harrison       100-0003   $1,425.00    2001-06-14\n",
       "2         3456     Lucy Gomez       100-0004   $1,390.00    2001-11-14\n",
       "3         4567   Rupert Jones       100-0005   $1,257.00       1/18/14\n",
       "4         5678  Jenny Walters       100-0006   $1,725.00       1/24/14"
      ]
     },
     "execution_count": 4,
     "metadata": {},
     "output_type": "execute_result"
    }
   ],
   "source": [
    "df2.head()"
   ]
  },
  {
   "cell_type": "code",
   "execution_count": 5,
   "metadata": {},
   "outputs": [
    {
     "data": {
      "text/html": [
       "<div>\n",
       "<style scoped>\n",
       "    .dataframe tbody tr th:only-of-type {\n",
       "        vertical-align: middle;\n",
       "    }\n",
       "\n",
       "    .dataframe tbody tr th {\n",
       "        vertical-align: top;\n",
       "    }\n",
       "\n",
       "    .dataframe thead th {\n",
       "        text-align: right;\n",
       "    }\n",
       "</style>\n",
       "<table border=\"1\" class=\"dataframe\">\n",
       "  <thead>\n",
       "    <tr style=\"text-align: right;\">\n",
       "      <th></th>\n",
       "      <th>Customer ID</th>\n",
       "      <th>Customer Name</th>\n",
       "      <th>Invoice Number</th>\n",
       "      <th>Sale Amount</th>\n",
       "      <th>Purchase Date</th>\n",
       "    </tr>\n",
       "  </thead>\n",
       "  <tbody>\n",
       "    <tr>\n",
       "      <th>0</th>\n",
       "      <td>1234</td>\n",
       "      <td>John Smith</td>\n",
       "      <td>100-0014</td>\n",
       "      <td>$1,350.00</td>\n",
       "      <td>2003-04-14</td>\n",
       "    </tr>\n",
       "    <tr>\n",
       "      <th>1</th>\n",
       "      <td>8765</td>\n",
       "      <td>Tony Song</td>\n",
       "      <td>100-0015</td>\n",
       "      <td>$1,167.00</td>\n",
       "      <td>2003-08-14</td>\n",
       "    </tr>\n",
       "    <tr>\n",
       "      <th>2</th>\n",
       "      <td>2345</td>\n",
       "      <td>Mary Harrison</td>\n",
       "      <td>100-0016</td>\n",
       "      <td>$1,789.00</td>\n",
       "      <td>3/17/14</td>\n",
       "    </tr>\n",
       "    <tr>\n",
       "      <th>3</th>\n",
       "      <td>6543</td>\n",
       "      <td>Rachel Paz</td>\n",
       "      <td>100-0017</td>\n",
       "      <td>$2,042.00</td>\n",
       "      <td>3/22/14</td>\n",
       "    </tr>\n",
       "    <tr>\n",
       "      <th>4</th>\n",
       "      <td>3456</td>\n",
       "      <td>Lucy Gomez</td>\n",
       "      <td>100-0018</td>\n",
       "      <td>$1,511.00</td>\n",
       "      <td>3/28/14</td>\n",
       "    </tr>\n",
       "  </tbody>\n",
       "</table>\n",
       "</div>"
      ],
      "text/plain": [
       "   Customer ID  Customer Name Invoice Number Sale Amount Purchase Date\n",
       "0         1234     John Smith       100-0014   $1,350.00    2003-04-14\n",
       "1         8765      Tony Song       100-0015   $1,167.00    2003-08-14\n",
       "2         2345  Mary Harrison       100-0016   $1,789.00       3/17/14\n",
       "3         6543     Rachel Paz       100-0017   $2,042.00       3/22/14\n",
       "4         3456     Lucy Gomez       100-0018   $1,511.00       3/28/14"
      ]
     },
     "execution_count": 5,
     "metadata": {},
     "output_type": "execute_result"
    }
   ],
   "source": [
    "df3.head()"
   ]
  },
  {
   "cell_type": "code",
   "execution_count": 6,
   "metadata": {},
   "outputs": [],
   "source": [
    "df = pd.concat([df1, df2, df3])"
   ]
  },
  {
   "cell_type": "code",
   "execution_count": 9,
   "metadata": {},
   "outputs": [
    {
     "data": {
      "text/html": [
       "<div>\n",
       "<style scoped>\n",
       "    .dataframe tbody tr th:only-of-type {\n",
       "        vertical-align: middle;\n",
       "    }\n",
       "\n",
       "    .dataframe tbody tr th {\n",
       "        vertical-align: top;\n",
       "    }\n",
       "\n",
       "    .dataframe thead th {\n",
       "        text-align: right;\n",
       "    }\n",
       "</style>\n",
       "<table border=\"1\" class=\"dataframe\">\n",
       "  <thead>\n",
       "    <tr style=\"text-align: right;\">\n",
       "      <th></th>\n",
       "      <th>Customer ID</th>\n",
       "      <th>Customer Name</th>\n",
       "      <th>Invoice Number</th>\n",
       "      <th>Sale Amount</th>\n",
       "      <th>Purchase Date</th>\n",
       "    </tr>\n",
       "  </thead>\n",
       "  <tbody>\n",
       "    <tr>\n",
       "      <th>0</th>\n",
       "      <td>9876</td>\n",
       "      <td>Daniel Farber</td>\n",
       "      <td>100-0008</td>\n",
       "      <td>$1,115.00</td>\n",
       "      <td>2002-02-14</td>\n",
       "    </tr>\n",
       "    <tr>\n",
       "      <th>1</th>\n",
       "      <td>8765</td>\n",
       "      <td>Laney Stone</td>\n",
       "      <td>100-0009</td>\n",
       "      <td>$1,367.00</td>\n",
       "      <td>2002-08-14</td>\n",
       "    </tr>\n",
       "    <tr>\n",
       "      <th>2</th>\n",
       "      <td>7654</td>\n",
       "      <td>Roger Lipney</td>\n",
       "      <td>100-0010</td>\n",
       "      <td>$2,135.00</td>\n",
       "      <td>2/15/14</td>\n",
       "    </tr>\n",
       "    <tr>\n",
       "      <th>3</th>\n",
       "      <td>6543</td>\n",
       "      <td>Thomas Haines</td>\n",
       "      <td>100-0011</td>\n",
       "      <td>$1,346.00</td>\n",
       "      <td>2/17/14</td>\n",
       "    </tr>\n",
       "    <tr>\n",
       "      <th>4</th>\n",
       "      <td>5432</td>\n",
       "      <td>Anushka Vaz</td>\n",
       "      <td>100-0012</td>\n",
       "      <td>$1,560.00</td>\n",
       "      <td>2/21/14</td>\n",
       "    </tr>\n",
       "    <tr>\n",
       "      <th>5</th>\n",
       "      <td>4321</td>\n",
       "      <td>Harriet Cooper</td>\n",
       "      <td>100-0013</td>\n",
       "      <td>$1,852.00</td>\n",
       "      <td>2/25/14</td>\n",
       "    </tr>\n",
       "    <tr>\n",
       "      <th>0</th>\n",
       "      <td>1234</td>\n",
       "      <td>John Smith</td>\n",
       "      <td>100-0002</td>\n",
       "      <td>$1,200.00</td>\n",
       "      <td>2001-01-14</td>\n",
       "    </tr>\n",
       "    <tr>\n",
       "      <th>1</th>\n",
       "      <td>2345</td>\n",
       "      <td>Mary Harrison</td>\n",
       "      <td>100-0003</td>\n",
       "      <td>$1,425.00</td>\n",
       "      <td>2001-06-14</td>\n",
       "    </tr>\n",
       "    <tr>\n",
       "      <th>2</th>\n",
       "      <td>3456</td>\n",
       "      <td>Lucy Gomez</td>\n",
       "      <td>100-0004</td>\n",
       "      <td>$1,390.00</td>\n",
       "      <td>2001-11-14</td>\n",
       "    </tr>\n",
       "    <tr>\n",
       "      <th>3</th>\n",
       "      <td>4567</td>\n",
       "      <td>Rupert Jones</td>\n",
       "      <td>100-0005</td>\n",
       "      <td>$1,257.00</td>\n",
       "      <td>1/18/14</td>\n",
       "    </tr>\n",
       "    <tr>\n",
       "      <th>4</th>\n",
       "      <td>5678</td>\n",
       "      <td>Jenny Walters</td>\n",
       "      <td>100-0006</td>\n",
       "      <td>$1,725.00</td>\n",
       "      <td>1/24/14</td>\n",
       "    </tr>\n",
       "    <tr>\n",
       "      <th>5</th>\n",
       "      <td>6789</td>\n",
       "      <td>Samantha Donaldson</td>\n",
       "      <td>100-0007</td>\n",
       "      <td>$1,995.00</td>\n",
       "      <td>1/31/14</td>\n",
       "    </tr>\n",
       "    <tr>\n",
       "      <th>0</th>\n",
       "      <td>1234</td>\n",
       "      <td>John Smith</td>\n",
       "      <td>100-0014</td>\n",
       "      <td>$1,350.00</td>\n",
       "      <td>2003-04-14</td>\n",
       "    </tr>\n",
       "    <tr>\n",
       "      <th>1</th>\n",
       "      <td>8765</td>\n",
       "      <td>Tony Song</td>\n",
       "      <td>100-0015</td>\n",
       "      <td>$1,167.00</td>\n",
       "      <td>2003-08-14</td>\n",
       "    </tr>\n",
       "    <tr>\n",
       "      <th>2</th>\n",
       "      <td>2345</td>\n",
       "      <td>Mary Harrison</td>\n",
       "      <td>100-0016</td>\n",
       "      <td>$1,789.00</td>\n",
       "      <td>3/17/14</td>\n",
       "    </tr>\n",
       "    <tr>\n",
       "      <th>3</th>\n",
       "      <td>6543</td>\n",
       "      <td>Rachel Paz</td>\n",
       "      <td>100-0017</td>\n",
       "      <td>$2,042.00</td>\n",
       "      <td>3/22/14</td>\n",
       "    </tr>\n",
       "    <tr>\n",
       "      <th>4</th>\n",
       "      <td>3456</td>\n",
       "      <td>Lucy Gomez</td>\n",
       "      <td>100-0018</td>\n",
       "      <td>$1,511.00</td>\n",
       "      <td>3/28/14</td>\n",
       "    </tr>\n",
       "    <tr>\n",
       "      <th>5</th>\n",
       "      <td>4321</td>\n",
       "      <td>Susan Wallace</td>\n",
       "      <td>100-0019</td>\n",
       "      <td>$2,280.00</td>\n",
       "      <td>3/30/14</td>\n",
       "    </tr>\n",
       "  </tbody>\n",
       "</table>\n",
       "</div>"
      ],
      "text/plain": [
       "   Customer ID       Customer Name Invoice Number Sale Amount Purchase Date\n",
       "0         9876       Daniel Farber       100-0008   $1,115.00    2002-02-14\n",
       "1         8765         Laney Stone       100-0009   $1,367.00    2002-08-14\n",
       "2         7654        Roger Lipney       100-0010   $2,135.00       2/15/14\n",
       "3         6543       Thomas Haines       100-0011   $1,346.00       2/17/14\n",
       "4         5432         Anushka Vaz       100-0012   $1,560.00       2/21/14\n",
       "5         4321      Harriet Cooper       100-0013   $1,852.00       2/25/14\n",
       "0         1234          John Smith       100-0002   $1,200.00    2001-01-14\n",
       "1         2345       Mary Harrison       100-0003   $1,425.00    2001-06-14\n",
       "2         3456          Lucy Gomez       100-0004   $1,390.00    2001-11-14\n",
       "3         4567        Rupert Jones       100-0005   $1,257.00       1/18/14\n",
       "4         5678       Jenny Walters       100-0006   $1,725.00       1/24/14\n",
       "5         6789  Samantha Donaldson       100-0007   $1,995.00       1/31/14\n",
       "0         1234          John Smith       100-0014   $1,350.00    2003-04-14\n",
       "1         8765           Tony Song       100-0015   $1,167.00    2003-08-14\n",
       "2         2345       Mary Harrison       100-0016   $1,789.00       3/17/14\n",
       "3         6543          Rachel Paz       100-0017   $2,042.00       3/22/14\n",
       "4         3456          Lucy Gomez       100-0018   $1,511.00       3/28/14\n",
       "5         4321       Susan Wallace       100-0019   $2,280.00       3/30/14"
      ]
     },
     "execution_count": 9,
     "metadata": {},
     "output_type": "execute_result"
    }
   ],
   "source": [
    "df"
   ]
  },
  {
   "cell_type": "code",
   "execution_count": 7,
   "metadata": {},
   "outputs": [
    {
     "data": {
      "text/plain": [
       "18"
      ]
     },
     "execution_count": 7,
     "metadata": {},
     "output_type": "execute_result"
    }
   ],
   "source": [
    "len(df)"
   ]
  },
  {
   "cell_type": "code",
   "execution_count": 13,
   "metadata": {},
   "outputs": [
    {
     "data": {
      "text/plain": [
       "str"
      ]
     },
     "execution_count": 13,
     "metadata": {},
     "output_type": "execute_result"
    }
   ],
   "source": [
    "type(df['Sale Amount'].sum())"
   ]
  },
  {
   "cell_type": "code",
   "execution_count": 30,
   "metadata": {},
   "outputs": [],
   "source": [
    "df['Sale Amount'] = df['Sale Amount'].str.strip('$')"
   ]
  },
  {
   "cell_type": "code",
   "execution_count": 31,
   "metadata": {},
   "outputs": [
    {
     "data": {
      "text/plain": [
       "0    1,115.00\n",
       "1    1,367.00\n",
       "2    2,135.00\n",
       "3    1,346.00\n",
       "4    1,560.00\n",
       "5    1,852.00\n",
       "0    1,200.00\n",
       "1    1,425.00\n",
       "2    1,390.00\n",
       "3    1,257.00\n",
       "4    1,725.00\n",
       "5    1,995.00\n",
       "0    1,350.00\n",
       "1    1,167.00\n",
       "2    1,789.00\n",
       "3    2,042.00\n",
       "4    1,511.00\n",
       "5    2,280.00\n",
       "Name: Sale Amount, dtype: object"
      ]
     },
     "execution_count": 31,
     "metadata": {},
     "output_type": "execute_result"
    }
   ],
   "source": [
    "df['Sale Amount']"
   ]
  },
  {
   "cell_type": "code",
   "execution_count": 33,
   "metadata": {},
   "outputs": [],
   "source": [
    "df['Sale Amount'] = df['Sale Amount'].replace(',','',regex=True).astype(float)"
   ]
  },
  {
   "cell_type": "code",
   "execution_count": 34,
   "metadata": {},
   "outputs": [
    {
     "data": {
      "text/plain": [
       "0    1115.0\n",
       "1    1367.0\n",
       "2    2135.0\n",
       "3    1346.0\n",
       "4    1560.0\n",
       "5    1852.0\n",
       "0    1200.0\n",
       "1    1425.0\n",
       "2    1390.0\n",
       "3    1257.0\n",
       "4    1725.0\n",
       "5    1995.0\n",
       "0    1350.0\n",
       "1    1167.0\n",
       "2    1789.0\n",
       "3    2042.0\n",
       "4    1511.0\n",
       "5    2280.0\n",
       "Name: Sale Amount, dtype: float64"
      ]
     },
     "execution_count": 34,
     "metadata": {},
     "output_type": "execute_result"
    }
   ],
   "source": [
    "df['Sale Amount']"
   ]
  },
  {
   "cell_type": "code",
   "execution_count": 37,
   "metadata": {},
   "outputs": [
    {
     "name": "stdout",
     "output_type": "stream",
     "text": [
      "Sale Amount 합계 28506.0\n",
      "Sale Amount 합계 1583.6666666666667\n"
     ]
    }
   ],
   "source": [
    "print('Sale Amount 합계', df['Sale Amount'].sum())\n",
    "print('Sale Amount 합계', df['Sale Amount'].mean())"
   ]
  }
 ],
 "metadata": {
  "kernelspec": {
   "display_name": "Python 3",
   "language": "python",
   "name": "python3"
  },
  "language_info": {
   "codemirror_mode": {
    "name": "ipython",
    "version": 3
   },
   "file_extension": ".py",
   "mimetype": "text/x-python",
   "name": "python",
   "nbconvert_exporter": "python",
   "pygments_lexer": "ipython3",
   "version": "3.7.5"
  }
 },
 "nbformat": 4,
 "nbformat_minor": 2
}
